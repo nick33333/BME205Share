{
 "cells": [
  {
   "cell_type": "code",
   "execution_count": 1,
   "metadata": {},
   "outputs": [],
   "source": [
    "#!/usr/bin/env python3\n",
    "\n",
    "########################################################################\n",
    "# File: Chan_Nicholas_randomizedMotifSearch.ipynb\n",
    "# Purpose: to find the promoter motif\n",
    "#   main(infile='FILE_PATH',outfile='FILE_PATH', inCL=['-i 1000', '-p 1', '-k 13'])\n",
    "#\n",
    "# Author: Nicholas Chan\n",
    "# History: 10/10/2021 Created\n",
    "########################################################################"
   ]
  },
  {
   "cell_type": "markdown",
   "metadata": {},
   "source": [
    "# Command Line Class\n",
    "Provided by Dr. B for parsing command line arguments"
   ]
  },
  {
   "cell_type": "code",
   "execution_count": 2,
   "metadata": {},
   "outputs": [],
   "source": [
    "########################################################################\n",
    "# CommandLine\n",
    "########################################################################\n",
    "\n",
    "\n",
    "class CommandLine():\n",
    "    \"\"\"\n",
    "    Handle the command line, usage and help requests.\n",
    "\n",
    "    CommandLine uses argparse,\n",
    "    it implements a standard command line argument parser with various argument options,\n",
    "    a standard usage and help, and an error termination exception Usage.\n",
    "    \"\"\"\n",
    "\n",
    "    def __init__(self, inOpts = None):\n",
    "        \"\"\"\n",
    "        CommandLine constructor.\n",
    "        \n",
    "        Implement a parser to interpret the command line argv string using argparse.\n",
    "        \"\"\"\n",
    "        import argparse\n",
    "        self.parser = argparse.ArgumentParser(\n",
    "            description='Program prolog - a brief description of what this thing does',\n",
    "            epilog='Program epilog - some other stuff you feel compelled to say',\n",
    "            add_help=True,  # default is True\n",
    "            prefix_chars='-',\n",
    "            usage='%(prog)s [options] -option1[default] <input >output'\n",
    "            )\n",
    "\n",
    "        self.parser.add_argument('-i', '--iterations', type=int, default=1000, action='store', help='number of times of iterations to find consensus motif')\n",
    "        self.parser.add_argument('-k', '--motifLength', type=int, default=13, action='store', help='length of the target promoter motif')\n",
    "        self.parser.add_argument('-p', '--pseudocount', type=float, default=1, action='store', help='number of pseudocounts')\n",
    "        # Command line option to use Gibbs sampling to find the optimal consensus motif.\n",
    "#         self.parser.add_argument('-g', '--gibbsampling', type=float, default=1, action='store', help='implement Gibbs sampling')\n",
    "\n",
    "        if inOpts is None:\n",
    "            self.args = self.parser.parse_args()\n",
    "        else:\n",
    "            self.args = self.parser.parse_args(inOpts)"
   ]
  },
  {
   "cell_type": "markdown",
   "metadata": {},
   "source": [
    "# FastAreader Class\n",
    "Provided by Dr. B for reading Fasta Files."
   ]
  },
  {
   "cell_type": "code",
   "execution_count": 3,
   "metadata": {},
   "outputs": [],
   "source": [
    "\n",
    "import sys\n",
    "\n",
    "class FastAreader():\n",
    "    \"\"\"\n",
    "    Read in files and preprocess.\n",
    "    \"\"\"\n",
    "    def __init__(self, fname=''):\n",
    "        \"\"\" Contructor: saves attribute fname. \"\"\"\n",
    "        self.fname = fname\n",
    "\n",
    "    def doOpen(self):\n",
    "        \"\"\" Open a file.\"\"\"\n",
    "        if self.fname == '':\n",
    "            return sys.stdin\n",
    "        else:\n",
    "            return open(self.fname)\n",
    "\n",
    "    def readFasta(self):\n",
    "        \"\"\" Read in a fasta file and yield header and sequences separately\"\"\"\n",
    "        header = ''\n",
    "        sequence = ''\n",
    "\n",
    "        with self.doOpen() as fileH:\n",
    "\n",
    "            header = ''\n",
    "            sequence = ''\n",
    "\n",
    "            # skip to first fasta header\n",
    "            line = fileH.readline()\n",
    "            while not line.startswith('>'):\n",
    "                line = fileH.readline()\n",
    "            header = line[1:].rstrip()\n",
    "\n",
    "            # Separate headers and sequences\n",
    "            for line in fileH:\n",
    "                if line.startswith('>'):\n",
    "                    yield header, sequence\n",
    "                    header = line[1:].rstrip()\n",
    "                    sequence = ''\n",
    "                else:\n",
    "                    sequence += ''.join(line.rstrip().split()).upper()\n",
    "\n",
    "        yield header, sequence"
   ]
  },
  {
   "cell_type": "markdown",
   "metadata": {},
   "source": [
    "# Assignment 2 Notes\n",
    "\n",
    "### NULL Model\n",
    "- For a Markov(1) Model, we consider a preceding base\n",
    "    - Ex:  \n",
    "    \n",
    "        $P(A|T_{prev}) = \\frac{P(TA)}{P(T)} = \\frac{\\frac{c(TA)}{N}}{\\frac{c(T)}{N}} = \\frac{c(TA)}{c(T)}$  \n",
    "        \n",
    "        - N is not the same in the cases of TA and T, but the difference is negligible for now\n",
    "- Increasing the order of a Markov Model makes our model more informed\n",
    "- Check Week 2 Overview Video 3 for more details on detailed Markov Model for 4-mer described by $k_{1}k_{2}k_{3}k_{4}$"
   ]
  },
  {
   "cell_type": "code",
   "execution_count": null,
   "metadata": {},
   "outputs": [],
   "source": [
    "import sys\n",
    "import os \n",
    "import numpy as np\n",
    "from fastaReader import FastAreader\n",
    "\n",
    "# holds files\n",
    "dataList = os.listdir('mdata')\n",
    "print(f\"{os.listdir()} \\n{os.listdir('mdata')}\")\n",
    "print('mdata/'+dataList[0])\n",
    "\n",
    "### SEQUENCE LIST ###\n",
    "seqList = []\n",
    "readData = FastAreader('mdata/'+dataList[0]).readFasta()\n",
    "for line in readData:\n",
    "    seqList.append(line[1])\n",
    "\n",
    "### REVERESE COMPLIMENT FUNCTION ###\n",
    "def revComp(seqStr):\n",
    "    newStr = ''\n",
    "    baseDict = {'A':'T', 'T':'A', 'C':'G', 'G':'C', 'N':'N'}\n",
    "    for char in seqStr:\n",
    "        newStr += baseDict[char]\n",
    "    return newStr[::-1]"
   ]
  }
 ],
 "metadata": {
  "kernelspec": {
   "display_name": "Python 3",
   "language": "python",
   "name": "python3"
  },
  "language_info": {
   "codemirror_mode": {
    "name": "ipython",
    "version": 3
   },
   "file_extension": ".py",
   "mimetype": "text/x-python",
   "name": "python",
   "nbconvert_exporter": "python",
   "pygments_lexer": "ipython3",
   "version": "3.8.5"
  }
 },
 "nbformat": 4,
 "nbformat_minor": 4
}
